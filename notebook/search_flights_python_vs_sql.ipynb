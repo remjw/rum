{
  "nbformat": 4,
  "nbformat_minor": 0,
  "metadata": {
    "colab": {
      "provenance": [],
      "authorship_tag": "ABX9TyM2TBoaC1lGZh4QnB9l33KW",
      "include_colab_link": true
    },
    "kernelspec": {
      "name": "python3",
      "display_name": "Python 3"
    },
    "language_info": {
      "name": "python"
    }
  },
  "cells": [
    {
      "cell_type": "markdown",
      "metadata": {
        "id": "view-in-github",
        "colab_type": "text"
      },
      "source": [
        "<a href=\"https://colab.research.google.com/github/remjw/rum/blob/main/notebook/search_flights_python_vs_sql.ipynb\" target=\"_parent\"><img src=\"https://colab.research.google.com/assets/colab-badge.svg\" alt=\"Open In Colab\"/></a>"
      ]
    },
    {
      "cell_type": "markdown",
      "source": [
        "Search Flights: \n",
        "- Transient vs. Persistent data\n",
        "- Python vs. SQL"
      ],
      "metadata": {
        "id": "vO5xBaOPouIg"
      }
    },
    {
      "cell_type": "markdown",
      "source": [
        "In-memory store in PYTHON Dictionary "
      ],
      "metadata": {
        "id": "U61279h4s75d"
      }
    },
    {
      "cell_type": "code",
      "execution_count": null,
      "metadata": {
        "colab": {
          "base_uri": "https://localhost:8080/",
          "height": 17
        },
        "id": "LlGEbSrtlHHA",
        "outputId": "f2e61a7f-3e09-4f91-d480-b9ca664dadaa"
      },
      "outputs": [
        {
          "output_type": "display_data",
          "data": {
            "text/plain": [
              "<IPython.core.display.HTML object>"
            ],
            "text/html": [
              "\n",
              "  <style>\n",
              "    pre {\n",
              "        white-space: pre-wrap;\n",
              "    }\n",
              "  </style>\n",
              "  "
            ]
          },
          "metadata": {}
        }
      ],
      "source": [
        "flights = [\n",
        "  {\"id\":1, \n",
        "    \"origin\":\"DFW\", \n",
        "    \"destination\":\"ORD\", \n",
        "    \"duration\":165\n",
        "  },\n",
        "  {\"id\":2, \n",
        "    \"origin\":\"EWR\", \n",
        "    \"destination\":\"IAH\", \n",
        "    \"duration\":227\n",
        "  }\n",
        "]"
      ]
    },
    {
      "cell_type": "code",
      "source": [
        "for f in flights:\n",
        "  print(f)"
      ],
      "metadata": {
        "colab": {
          "base_uri": "https://localhost:8080/",
          "height": 52
        },
        "id": "MQISEnxnlY80",
        "outputId": "c53fe196-d46f-4d36-8d5b-68bb36a63ccb"
      },
      "execution_count": null,
      "outputs": [
        {
          "output_type": "display_data",
          "data": {
            "text/plain": [
              "<IPython.core.display.HTML object>"
            ],
            "text/html": [
              "\n",
              "  <style>\n",
              "    pre {\n",
              "        white-space: pre-wrap;\n",
              "    }\n",
              "  </style>\n",
              "  "
            ]
          },
          "metadata": {}
        },
        {
          "output_type": "stream",
          "name": "stdout",
          "text": [
            "{'id': 1, 'origin': 'DFW', 'destination': 'ORD', 'duration': 165}\n",
            "{'id': 2, 'origin': 'EWR', 'destination': 'IAH', 'duration': 227}\n"
          ]
        }
      ]
    },
    {
      "cell_type": "markdown",
      "source": [
        "**Query:** Search departure flights from the airport `DFW`.\n",
        "\n",
        "_i.e._, return a flight if its `origin` key is `DFW`."
      ],
      "metadata": {
        "id": "NjrBcYLemz1l"
      }
    },
    {
      "cell_type": "code",
      "source": [
        "# declare an empty list\n",
        "select = []\n",
        "\n",
        "# wrap the pipeline in a list comprehension\n",
        "select = [ # list comprehension\n",
        "  tuple(flight.values()) # collect item values in a tuple\n",
        "  for flight in flights # scan flights\n",
        "  if flight[\"origin\"] == \"DFW\" # test if origin is DFW\n",
        "]\n",
        "\n",
        "# display\n",
        "print(select)"
      ],
      "metadata": {
        "colab": {
          "base_uri": "https://localhost:8080/",
          "height": 34
        },
        "id": "TtCFcBbSmpFV",
        "outputId": "32bf5bff-a07f-4de2-bb66-212d7ffda777"
      },
      "execution_count": null,
      "outputs": [
        {
          "output_type": "display_data",
          "data": {
            "text/plain": [
              "<IPython.core.display.HTML object>"
            ],
            "text/html": [
              "\n",
              "  <style>\n",
              "    pre {\n",
              "        white-space: pre-wrap;\n",
              "    }\n",
              "  </style>\n",
              "  "
            ]
          },
          "metadata": {}
        },
        {
          "output_type": "stream",
          "name": "stdout",
          "text": [
            "[(1, 'DFW', 'ORD', 165)]\n"
          ]
        }
      ]
    },
    {
      "cell_type": "markdown",
      "source": [
        "If flights data is permanently stored in a relational table, the previous Python search can easily be done in SQL with less code and improved readability. The following is the equivalent SQL."
      ],
      "metadata": {
        "id": "JImkMsMdsiyB"
      }
    },
    {
      "cell_type": "code",
      "source": [
        "SELECT * \n",
        "FROM flights \n",
        "WHERE origin = \"DFW\""
      ],
      "metadata": {
        "id": "OiGfXnprqWM7"
      },
      "execution_count": null,
      "outputs": []
    }
  ]
}